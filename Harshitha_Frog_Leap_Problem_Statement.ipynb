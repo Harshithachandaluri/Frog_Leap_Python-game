{
  "cells": [
    {
      "cell_type": "markdown",
      "metadata": {
        "id": "fxZte1ZuP3yr"
      },
      "source": [
        "# Problem statement\n",
        "\n",
        "Create famous 'Frog leap' puzzle game. Try completing the game before starting to get an idea about its working.\n",
        "[Demonstration](https://www.neok12.com/games/leap-froggies/leap-froggies.htm).\n",
        "\n",
        "\n",
        "### Rules ###\n",
        "1. The left set of frogs can only move right, the right set of frogs can only move left.\n",
        "2. Frogs can move forward one space, or move two spaces by jumping over another frog from opposite side.\n",
        "3. The puzzle is solved when the two sets of frogs have switched positions.\n",
        "\n",
        "\n",
        "## Steps to solve the problem:\n",
        "### Step1:-\n",
        "- Display green and brown frogs on the left and right sides initially.\n",
        "\n",
        "Initial Display :-  \n",
        "```\n",
        "[ 0 ,  1 ,  2 ,  3 ,  4 ,  5 ,  6 ]\n",
        "['G', 'G', 'G', '-', 'B', 'B', 'B']\n",
        "```\n",
        "<br>\n",
        "Here 'G' represents Green frogs on the left side and 'B' represents brown frogs on the right side. The '-' defines the position of empty leaf.\n",
        "(You can change display according to your imagination or convinience)\n",
        "\n",
        "### Step2:-\n",
        "Accept positions of the frog that you want to move.<br>\n",
        "Example: If we enter position 2 then the game will look like this:-\n",
        "```\n",
        "[ 0 ,  1 ,  2 ,  3 ,  4 ,  5 ,  6 ]\n",
        "['G', 'G', '-', 'G', 'B', 'B', 'B']\n",
        "```\n",
        "\n",
        "### Step3:- ###\n",
        "Define Invalid moves and add conditional 'if' statements accordingly\n",
        "#### Rules\n",
        "1. Entered position should be between 0 to 6. Or a character 'q' to quit the game.\n",
        "2. Entered position cannot be the position of empty leaf.\n",
        "3. If the selected frog position cannot perform the contraints given in rule 2 then the move is invalid.\n",
        "\n",
        "### Step4:-\n",
        "Make the appropriate move by changing the game display."
      ]
    },
    {
      "cell_type": "markdown",
      "metadata": {
        "id": "-viYJbAFQXcJ"
      },
      "source": [
        "## Step 1\n",
        "First create a list `positions` which contains the characters 'G','B' and '-' in the same sequence as given in the initial display state."
      ]
    },
    {
      "cell_type": "code",
      "execution_count": null,
      "metadata": {
        "id": "fSvLBrjwP0sr",
        "colab": {
          "base_uri": "https://localhost:8080/"
        },
        "outputId": "419091b5-651a-42ce-f2fe-74eff682fe91"
      },
      "outputs": [
        {
          "output_type": "stream",
          "name": "stdout",
          "text": [
            "['G', 'G', 'G', '-', 'B', 'B', 'B']\n"
          ]
        }
      ],
      "source": [
        "### your code here\n",
        "positions=['G', 'G', 'G', '-', 'B', 'B', 'B']\n",
        "print(positions)"
      ]
    },
    {
      "cell_type": "code",
      "execution_count": null,
      "metadata": {
        "colab": {
          "base_uri": "https://localhost:8080/"
        },
        "id": "m8xOBoS3e45J",
        "outputId": "403b7c46-edbe-42ff-b03b-6bd7bb540e70"
      },
      "outputs": [
        {
          "output_type": "stream",
          "name": "stdout",
          "text": [
            "['B', 'B', 'B', '-', 'G', 'G', 'G']\n"
          ]
        }
      ],
      "source": [
        "win=positions[::-1]\n",
        "print(win)"
      ]
    },
    {
      "cell_type": "markdown",
      "metadata": {
        "id": "unr1AJLSQj_4"
      },
      "source": [
        "Now print this string ```[ 0 ,  1 ,  2 ,  3 ,  4 ,  5 ,  6 ]``` and after that print the list `positions`"
      ]
    },
    {
      "cell_type": "code",
      "execution_count": null,
      "metadata": {
        "colab": {
          "base_uri": "https://localhost:8080/"
        },
        "id": "qqKLcfEmQgiZ",
        "outputId": "69e331fc-f84f-45ed-87e3-dccce3769e15"
      },
      "outputs": [
        {
          "output_type": "stream",
          "name": "stdout",
          "text": [
            "[  0,   1,   2,   3,   4,   5,   6 ]\n",
            "['G', 'G', 'G', '-', 'B', 'B', 'B']\n"
          ]
        }
      ],
      "source": [
        "### your code here\n",
        "print('[  0,   1,   2,   3,   4,   5,   6 ]')\n",
        "print(positions)"
      ]
    },
    {
      "cell_type": "markdown",
      "metadata": {
        "id": "DuEVsgtjQqXV"
      },
      "source": [
        "Take position input from user and write a message as `\"Press q to quit else \\nEnter position of piece:\"`."
      ]
    },
    {
      "cell_type": "code",
      "execution_count": null,
      "metadata": {
        "colab": {
          "base_uri": "https://localhost:8080/"
        },
        "id": "nPz65EKXQnDR",
        "outputId": "e3d6ca98-10ae-47ff-909d-07c0e86c5dc8"
      },
      "outputs": [
        {
          "name": "stdout",
          "output_type": "stream",
          "text": [
            "Press q to quit else \n",
            "Enter position of piece:2\n"
          ]
        }
      ],
      "source": [
        "### your code here\n",
        "n=input('Press q to quit else \\nEnter position of piece:')\n"
      ]
    },
    {
      "cell_type": "markdown",
      "metadata": {
        "id": "ejy_x_eTRJmT"
      },
      "source": [
        "Now the taken input is in string format. So first check if the input is `'q'` character. If input is `'q'` then the person is quiting the game so print `'You Lose'`."
      ]
    },
    {
      "cell_type": "code",
      "execution_count": null,
      "metadata": {
        "id": "1OrsC7P9QxO6"
      },
      "outputs": [],
      "source": [
        "### your code here\n",
        "if(n=='q'):\n",
        "  print('You Lose')"
      ]
    },
    {
      "cell_type": "markdown",
      "metadata": {
        "id": "yZJeDTGlRSMe"
      },
      "source": [
        "Next if input character is not `'q'` then it has to be some integer. so convert input to integer format."
      ]
    },
    {
      "cell_type": "code",
      "execution_count": null,
      "metadata": {
        "id": "PWZj_Js6RP2G"
      },
      "outputs": [],
      "source": [
        "### your code here\n",
        "if(n=='q'):\n",
        "  print('You Lose')\n",
        "else:\n",
        "  n=int(n)\n",
        "#print(n)\n",
        "#print(type(n))"
      ]
    },
    {
      "cell_type": "markdown",
      "metadata": {
        "id": "SyCzN-cYRXZa"
      },
      "source": [
        "## Step 2\n",
        "Now we have to check validity of the selected positions or move.<br>\n",
        "If the entered number isn't between 0 and 6, then print 'Invalid move'."
      ]
    },
    {
      "cell_type": "code",
      "execution_count": null,
      "metadata": {
        "id": "8_edLqe2RU8S"
      },
      "outputs": [],
      "source": [
        "### your code here\n",
        "if n not in range(0,7):\n",
        "  print('Invalid move')\n",
        "\n"
      ]
    },
    {
      "cell_type": "markdown",
      "metadata": {
        "id": "Va03g0l5Rlkx"
      },
      "source": [
        "A frog should be present on the selected position to make a move. If leaf is selected then it doesn't make sense. Therefore, if entered postition is same as the postition of empty leaf then the move is invalid and print `Invalid Move`"
      ]
    },
    {
      "cell_type": "code",
      "execution_count": null,
      "metadata": {
        "id": "uM2-D1xGRiH4"
      },
      "outputs": [],
      "source": [
        "### your code here\n",
        "if(positions[n]=='-'):\n",
        "  print('Invalid Move')"
      ]
    },
    {
      "cell_type": "markdown",
      "metadata": {
        "id": "cp5q2ahQTnwI"
      },
      "source": [
        "Initialize a variable named `pos2` at value 0, to store the index of empty leaf, so that we can use it later."
      ]
    },
    {
      "cell_type": "code",
      "execution_count": null,
      "metadata": {
        "id": "1SkBYDnaTpiV"
      },
      "outputs": [],
      "source": [
        "### your code here\n",
        "pos2=0"
      ]
    },
    {
      "cell_type": "markdown",
      "metadata": {
        "id": "V9UFD623R3Oa"
      },
      "source": [
        "```   \n",
        "    Check if the selected frog is 'G':\n",
        "  \n",
        "        (Inside if when it's 'G'. As 'G' is selected frog can move to right only.)\n",
        "        \n",
        "        ❗condition 1\n",
        "\n",
        "        If **selected_position + 1** is less than or equal to 6 and **curent_position + 1** contains '-'\n",
        "        then it's a valid move and store that postion in `pos2`.\n",
        "        \n",
        "        ❗condition2\n",
        "\n",
        "        Else if **selected_position + 2** is less than or equal to 6 and if **current_position + 2**\n",
        "        contains '-' and if **selected_position + 1** contains 'B' then it's a valid move  and store that postion in `pos2`.\n",
        "        \n",
        "        ❗condition3:\n",
        "\n",
        "        Else remainig all are invalid, so print `Invalid Move`\n",
        "      \n",
        "```"
      ]
    },
    {
      "cell_type": "code",
      "execution_count": null,
      "metadata": {
        "id": "IDHxpibURriq"
      },
      "outputs": [],
      "source": [
        "### your code here\n",
        "if(positions[n]=='G'):\n",
        "  if n+1<=6 and positions[n+1]=='-':\n",
        "    pos2=n+1\n",
        "    #print(pos2)\n",
        "  elif n+2<=6 and positions[n+2]=='-' and positions[n+1]=='B':\n",
        "    pos2=n+2\n",
        "    #print(pos2)\n",
        "  else:\n",
        "    print('Invalid Move')\n",
        "#print(n)\n",
        "\n",
        "\n"
      ]
    },
    {
      "cell_type": "markdown",
      "metadata": {
        "id": "DyQX5nUsTZPF"
      },
      "source": [
        "```\n",
        "    Check if the selected frog is 'B':\n",
        "    \n",
        "        (Inside if when it's 'B'. As 'B' is selected frog can move to left only.)\n",
        "        \n",
        "        ❗condition1:\n",
        "\n",
        "        If **selected_position - 1** is more than or equal to 0 and **curent_position - 1** contains '-' then\n",
        "        it's a valid move and and store that postion in `pos2`.\n",
        "        \n",
        "        ❗condition2:\n",
        "\n",
        "        Else if **selected_position - 2** is more than or equal to 0 and if **current_position - 2** contains '-'\n",
        "        and if **selected_position - 1** contains 'G' then it's a valid move and and store that postion in `pos2`.\n",
        "\n",
        "        ❗condition3:\n",
        "        \n",
        "        Else remainig all are invalid,, so print `Invalid Move`.\n",
        "        \n",
        "```"
      ]
    },
    {
      "cell_type": "code",
      "execution_count": null,
      "metadata": {
        "id": "cQ2G3ZO_TWU5"
      },
      "outputs": [],
      "source": [
        "### your code here\n",
        "if(positions[n]=='B'):\n",
        "  if n-1>=0 and positions[n-1]=='-':\n",
        "    pos2=n-1\n",
        "  elif n-2>=0 and positions[n-2]=='-' and positions[n-1]=='G':\n",
        "    pos2=n-2\n",
        "  else:\n",
        "    print('Invalid Move')"
      ]
    },
    {
      "cell_type": "markdown",
      "metadata": {
        "id": "Vads2oztUd4g"
      },
      "source": [
        "Swap the element at selected positions and calculated position2 in the list.<br> So basically we are moving the frog to next valid position by swapping elelments of array."
      ]
    },
    {
      "cell_type": "code",
      "execution_count": null,
      "metadata": {
        "id": "jXOGtww7UeYQ"
      },
      "outputs": [],
      "source": [
        "### your code here\n",
        "positions[n],positions[pos2]=positions[pos2],positions[n]"
      ]
    },
    {
      "cell_type": "markdown",
      "metadata": {
        "id": "8qF4Q2HsUlZ4"
      },
      "source": [
        "Now print the display of the game again to see the change.<br>\n",
        "If we enter position 2 then the output will look like this:-\n",
        "```\n",
        "[ 0 ,  1 ,  2 ,  3 ,  4 ,  5 ,  6 ]\n",
        "['G', 'G', '-', 'G', 'B', 'B', 'B']\n",
        "```"
      ]
    },
    {
      "cell_type": "code",
      "execution_count": null,
      "metadata": {
        "colab": {
          "base_uri": "https://localhost:8080/"
        },
        "id": "0S3oNzG3UifK",
        "outputId": "f23cb8b3-17ec-4726-ad9d-76e177220b91"
      },
      "outputs": [
        {
          "output_type": "stream",
          "name": "stdout",
          "text": [
            "['G', 'G', '-', 'G', 'B', 'B', 'B']\n"
          ]
        }
      ],
      "source": [
        "### your code here\n",
        "print(positions)"
      ]
    },
    {
      "cell_type": "markdown",
      "metadata": {
        "id": "EILVGu48UsH-"
      },
      "source": [
        "Check for winning condition by comparing the elements of list. If player has won the game print `'You Win'`"
      ]
    },
    {
      "cell_type": "code",
      "source": [
        "### your code here\n",
        "B = '\\U0001F438'\n",
        "G='\\U0001F42F'\n",
        "#Intialize the positions in the list\n",
        "positions=[G,G,G,'-',B,B,B]\n",
        "#Display the initial state of the game\n",
        "print(positions)\n",
        "#positions=['G','G','G','-','B','B','B']\n",
        "win=positions[::-1]\n",
        "while True:\n",
        "  #Take input from the user\n",
        "  n=input('Press q to quit else \\nEnter position of piece:')\n",
        "  #Check if the user wants to quit\n",
        "  if n.lower()=='q':\n",
        "    print('You Lose')\n",
        "    break\n",
        "  #convert input to integer\n",
        "  n=int(n)\n",
        "  #Check for valid move\n",
        "  if n not in range(0,7):\n",
        "    print('Invalid move')\n",
        "    continue\n",
        "  #Check if the select position is empty\n",
        "  if(positions[n]=='-'):\n",
        "    print('Invalid Move')\n",
        "    continue\n",
        "  #Initialize a variable named pos2 at value 0, to store the index of empty leaf,\n",
        "  pos2=0\n",
        "  #Check if the selected frog is green\n",
        "  if(positions[n]==G):\n",
        "    #cond 1\n",
        "    if n+1<=6 and positions[n+1]=='-':\n",
        "      pos2=n+1\n",
        "    #cond 2\n",
        "    elif n+2<=6 and positions[n+2]=='-':\n",
        "      pos2=n+2\n",
        "    else:\n",
        "      print('Invalid Move')\n",
        "      continue\n",
        "  #Check if the selected frog is Brown\n",
        "  elif (positions[n]==B):\n",
        "    #cond 1\n",
        "    if n-1>=0 and positions[n-1]=='-':\n",
        "      pos2=n-1\n",
        "    #cond 2\n",
        "    elif n-2>=0 and positions[n-2]=='-':\n",
        "      pos2=n-2\n",
        "    else:\n",
        "      print('Invalid Move')\n",
        "      continue\n",
        "  #Swap the elements\n",
        "  positions[n],positions[pos2]=positions[pos2],positions[n]\n",
        "  print(positions)\n",
        "  #Check for winning condition\n",
        "  if positions==win:\n",
        "    print('You Win \\U0001F604 !!')\n",
        "    break\n",
        "  if positions==[G,G,G,B,B,B,'-']:\n",
        "    print('You Lose \\U0001F61E')\n",
        "    break\n",
        "  if positions==['-',G,G,G,B,B,B]:\n",
        "    print('You Lose \\U0001F61E')\n",
        "    break"
      ],
      "metadata": {
        "colab": {
          "base_uri": "https://localhost:8080/"
        },
        "id": "qmTCl-ZIPkwE",
        "outputId": "7cbce152-3286-4875-eae1-24f84b143ac1"
      },
      "execution_count": null,
      "outputs": [
        {
          "output_type": "stream",
          "name": "stdout",
          "text": [
            "['🐯', '🐯', '🐯', '-', '🐸', '🐸', '🐸']\n",
            "Press q to quit else \n",
            "Enter position of piece:4\n",
            "['🐯', '🐯', '🐯', '🐸', '-', '🐸', '🐸']\n",
            "Press q to quit else \n",
            "Enter position of piece:2\n",
            "['🐯', '🐯', '-', '🐸', '🐯', '🐸', '🐸']\n",
            "Press q to quit else \n",
            "Enter position of piece:1\n",
            "['🐯', '-', '🐯', '🐸', '🐯', '🐸', '🐸']\n",
            "Press q to quit else \n",
            "Enter position of piece:3\n",
            "['🐯', '🐸', '🐯', '-', '🐯', '🐸', '🐸']\n",
            "Press q to quit else \n",
            "Enter position of piece:5\n",
            "['🐯', '🐸', '🐯', '🐸', '🐯', '-', '🐸']\n",
            "Press q to quit else \n",
            "Enter position of piece:6\n",
            "['🐯', '🐸', '🐯', '🐸', '🐯', '🐸', '-']\n",
            "Press q to quit else \n",
            "Enter position of piece:4\n",
            "['🐯', '🐸', '🐯', '🐸', '-', '🐸', '🐯']\n",
            "Press q to quit else \n",
            "Enter position of piece:2\n",
            "['🐯', '🐸', '-', '🐸', '🐯', '🐸', '🐯']\n",
            "Press q to quit else \n",
            "Enter position of piece:0\n",
            "['-', '🐸', '🐯', '🐸', '🐯', '🐸', '🐯']\n",
            "Press q to quit else \n",
            "Enter position of piece:1\n",
            "['🐸', '-', '🐯', '🐸', '🐯', '🐸', '🐯']\n",
            "Press q to quit else \n",
            "Enter position of piece:3\n",
            "['🐸', '🐸', '🐯', '-', '🐯', '🐸', '🐯']\n",
            "Press q to quit else \n",
            "Enter position of piece:5\n",
            "['🐸', '🐸', '🐯', '🐸', '🐯', '-', '🐯']\n",
            "Press q to quit else \n",
            "Enter position of piece:4\n",
            "['🐸', '🐸', '🐯', '🐸', '-', '🐯', '🐯']\n",
            "Press q to quit else \n",
            "Enter position of piece:2\n",
            "['🐸', '🐸', '-', '🐸', '🐯', '🐯', '🐯']\n",
            "Press q to quit else \n",
            "Enter position of piece:3\n",
            "['🐸', '🐸', '🐸', '-', '🐯', '🐯', '🐯']\n",
            "You Win 😄 !!\n"
          ]
        }
      ]
    },
    {
      "cell_type": "markdown",
      "metadata": {
        "id": "a2a0HHjiUyQ8"
      },
      "source": [
        "Now the game should keep running until the player quits, so place all conditional statements inside an infinite loop.<br>\n",
        "\n",
        "1. We have to `'break'` the loop if the player presses `'q'` and quits.\n",
        "\n",
        "2. If the move made by player is `'Invalid Move'` then we have to `'continue'` without executing remaining part of the selected iteration.\n",
        "\n",
        "3. If player wins the game we have to `break` the loop.\n",
        "\n",
        "\n",
        "```\n",
        "Infinite loop:\n",
        "    (inside loop)\n",
        "    1.Take input\n",
        "    2.Check all valid and invalid conditions of `pos`.\n",
        "    3.Make the appropriate move by calculating `pos2`.\n",
        "    4.Display game\n",
        "    4.Check winning condition\n",
        "```"
      ]
    }
  ],
  "metadata": {
    "colab": {
      "provenance": []
    },
    "kernelspec": {
      "display_name": "Python 3",
      "name": "python3"
    },
    "language_info": {
      "name": "python"
    }
  },
  "nbformat": 4,
  "nbformat_minor": 0
}